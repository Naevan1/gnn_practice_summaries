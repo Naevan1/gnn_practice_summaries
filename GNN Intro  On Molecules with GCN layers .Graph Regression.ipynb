{
 "cells": [
  {
   "cell_type": "markdown",
   "id": "a58e75ad",
   "metadata": {},
   "source": [
    "use open uni_dhl_installed env"
   ]
  },
  {
   "cell_type": "code",
   "execution_count": 1,
   "id": "7613941a",
   "metadata": {},
   "outputs": [
    {
     "name": "stderr",
     "output_type": "stream",
     "text": [
      "C:\\Users\\NatureChad\\anaconda3\\envs\\open_uni_dhl_installed_pygeom\\lib\\site-packages\\tqdm\\auto.py:22: TqdmWarning: IProgress not found. Please update jupyter and ipywidgets. See https://ipywidgets.readthedocs.io/en/stable/user_install.html\n",
      "  from .autonotebook import tqdm as notebook_tqdm\n"
     ]
    }
   ],
   "source": [
    "import torch\n",
    "import torch_geometric"
   ]
  },
  {
   "cell_type": "code",
   "execution_count": 2,
   "id": "375ff21c",
   "metadata": {},
   "outputs": [],
   "source": [
    "import rdkit\n",
    "from rdkit import Chem"
   ]
  },
  {
   "cell_type": "code",
   "execution_count": 3,
   "id": "e68c2b30",
   "metadata": {},
   "outputs": [
    {
     "data": {
      "text/plain": [
       "ESOL(1128)"
      ]
     },
     "execution_count": 3,
     "metadata": {},
     "output_type": "execute_result"
    }
   ],
   "source": [
    "from torch_geometric.datasets import MoleculeNet\n",
    "data = MoleculeNet(root=\".\", name=\"ESOL\")\n",
    "data"
   ]
  },
  {
   "cell_type": "code",
   "execution_count": 12,
   "id": "fcd531d3",
   "metadata": {},
   "outputs": [
    {
     "data": {
      "text/plain": [
       "False"
      ]
     },
     "execution_count": 12,
     "metadata": {},
     "output_type": "execute_result"
    }
   ],
   "source": [
    "torch.cuda.is_available()"
   ]
  },
  {
   "cell_type": "code",
   "execution_count": 13,
   "id": "bd4c4b2d",
   "metadata": {},
   "outputs": [
    {
     "data": {
      "text/plain": [
       "0"
      ]
     },
     "execution_count": 13,
     "metadata": {},
     "output_type": "execute_result"
    }
   ],
   "source": [
    "torch.cuda.device_count()"
   ]
  },
  {
   "cell_type": "code",
   "execution_count": 17,
   "id": "c1356421",
   "metadata": {},
   "outputs": [
    {
     "data": {
      "text/plain": [
       "734"
      ]
     },
     "execution_count": 17,
     "metadata": {},
     "output_type": "execute_result"
    }
   ],
   "source": [
    "data.num_classes"
   ]
  },
  {
   "cell_type": "markdown",
   "id": "6e10ca79",
   "metadata": {},
   "source": [
    "- Chemical graphs however, are invariant to permutations --> Graph Neural Networks\n",
    "- target dim should be 1 not 734. 1 target value -> Regression Problem."
   ]
  },
  {
   "cell_type": "code",
   "execution_count": 18,
   "id": "0d3b3dc5",
   "metadata": {},
   "outputs": [
    {
     "name": "stdout",
     "output_type": "stream",
     "text": [
      "Dataset type:  <class 'torch_geometric.datasets.molecule_net.MoleculeNet'>\n",
      "Dataset features:  9\n",
      "Dataset target:  734\n",
      "Dataset length:  <bound method InMemoryDataset.len of ESOL(1128)>\n",
      "Dataset sample:  Data(x=[32, 9], edge_index=[2, 68], edge_attr=[68, 3], smiles='OCC3OC(OCC2OC(OC(C#N)c1ccccc1)C(O)C(O)C2O)C(O)C(O)C3O ', y=[1, 1])\n",
      "Sample  nodes:  32\n",
      "Sample  edges:  68\n"
     ]
    }
   ],
   "source": [
    "# Investigating the dataset\n",
    "print(\"Dataset type: \", type(data))\n",
    "print(\"Dataset features: \", data.num_features)\n",
    "print(\"Dataset target: \", data.num_classes)\n",
    "print(\"Dataset length: \", data.len)\n",
    "print(\"Dataset sample: \", data[0])\n",
    "print(\"Sample  nodes: \", data[0].num_nodes)\n",
    "print(\"Sample  edges: \", data[0].num_edges)\n",
    "\n",
    "# edge_index = graph connections\n",
    "# smiles = molecule with its atoms\n",
    "# x = node features (32 nodes have each 9 features)\n",
    "# y = labels (dimension)"
   ]
  },
  {
   "cell_type": "code",
   "execution_count": 24,
   "id": "530d9930",
   "metadata": {},
   "outputs": [
    {
     "data": {
      "text/plain": [
       "tensor([[-0.7700]])"
      ]
     },
     "execution_count": 24,
     "metadata": {},
     "output_type": "execute_result"
    }
   ],
   "source": [
    "data[0].y \n",
    "\n",
    "# this is the solubility of each molecule with 32 nodes\n",
    "\n",
    "# We only have 1 value for this, since this is a graph-level value -> we want to do a graph level prediciton. \n",
    "\n",
    "# Thus we must create an embedding for the graph."
   ]
  },
  {
   "cell_type": "code",
   "execution_count": 38,
   "id": "07f88a87",
   "metadata": {},
   "outputs": [
    {
     "data": {
      "text/plain": [
       "tensor([[8, 0, 2, 5, 1, 0, 4, 0, 0],\n",
       "        [6, 0, 4, 5, 2, 0, 4, 0, 0],\n",
       "        [6, 0, 4, 5, 1, 0, 4, 0, 1],\n",
       "        [8, 0, 2, 5, 0, 0, 4, 0, 1],\n",
       "        [6, 0, 4, 5, 1, 0, 4, 0, 1],\n",
       "        [8, 0, 2, 5, 0, 0, 4, 0, 0],\n",
       "        [6, 0, 4, 5, 2, 0, 4, 0, 0],\n",
       "        [6, 0, 4, 5, 1, 0, 4, 0, 1],\n",
       "        [8, 0, 2, 5, 0, 0, 4, 0, 1],\n",
       "        [6, 0, 4, 5, 1, 0, 4, 0, 1],\n",
       "        [8, 0, 2, 5, 0, 0, 4, 0, 0],\n",
       "        [6, 0, 4, 5, 1, 0, 4, 0, 0],\n",
       "        [6, 0, 2, 5, 0, 0, 2, 0, 0],\n",
       "        [7, 0, 1, 5, 0, 0, 2, 0, 0],\n",
       "        [6, 0, 3, 5, 0, 0, 3, 1, 1],\n",
       "        [6, 0, 3, 5, 1, 0, 3, 1, 1],\n",
       "        [6, 0, 3, 5, 1, 0, 3, 1, 1],\n",
       "        [6, 0, 3, 5, 1, 0, 3, 1, 1],\n",
       "        [6, 0, 3, 5, 1, 0, 3, 1, 1],\n",
       "        [6, 0, 3, 5, 1, 0, 3, 1, 1],\n",
       "        [6, 0, 4, 5, 1, 0, 4, 0, 1],\n",
       "        [8, 0, 2, 5, 1, 0, 4, 0, 0],\n",
       "        [6, 0, 4, 5, 1, 0, 4, 0, 1],\n",
       "        [8, 0, 2, 5, 1, 0, 4, 0, 0],\n",
       "        [6, 0, 4, 5, 1, 0, 4, 0, 1],\n",
       "        [8, 0, 2, 5, 1, 0, 4, 0, 0],\n",
       "        [6, 0, 4, 5, 1, 0, 4, 0, 1],\n",
       "        [8, 0, 2, 5, 1, 0, 4, 0, 0],\n",
       "        [6, 0, 4, 5, 1, 0, 4, 0, 1],\n",
       "        [8, 0, 2, 5, 1, 0, 4, 0, 0],\n",
       "        [6, 0, 4, 5, 1, 0, 4, 0, 1],\n",
       "        [8, 0, 2, 5, 1, 0, 4, 0, 0]])"
      ]
     },
     "execution_count": 38,
     "metadata": {},
     "output_type": "execute_result"
    }
   ],
   "source": [
    "# Investigating the features\n",
    "# Shape: [num_nodes, num_node_features]\n",
    "data[0].x\n",
    "\n",
    "# These are the 32 nodes with 9 features each.\n",
    "\n",
    "# Each of these lines represent a node Feature Vector of every node."
   ]
  },
  {
   "cell_type": "code",
   "execution_count": 33,
   "id": "b25f0e76",
   "metadata": {},
   "outputs": [
    {
     "name": "stdout",
     "output_type": "stream",
     "text": [
      "Are edges directed : False\n",
      "tensor([[ 0,  1],\n",
      "        [ 1,  0],\n",
      "        [ 1,  2],\n",
      "        [ 2,  1],\n",
      "        [ 2,  3],\n",
      "        [ 2, 30],\n",
      "        [ 3,  2],\n",
      "        [ 3,  4],\n",
      "        [ 4,  3],\n",
      "        [ 4,  5],\n",
      "        [ 4, 26],\n",
      "        [ 5,  4],\n",
      "        [ 5,  6],\n",
      "        [ 6,  5],\n",
      "        [ 6,  7],\n",
      "        [ 7,  6],\n",
      "        [ 7,  8],\n",
      "        [ 7, 24],\n",
      "        [ 8,  7],\n",
      "        [ 8,  9],\n",
      "        [ 9,  8],\n",
      "        [ 9, 10],\n",
      "        [ 9, 20],\n",
      "        [10,  9],\n",
      "        [10, 11],\n",
      "        [11, 10],\n",
      "        [11, 12],\n",
      "        [11, 14],\n",
      "        [12, 11],\n",
      "        [12, 13],\n",
      "        [13, 12],\n",
      "        [14, 11],\n",
      "        [14, 15],\n",
      "        [14, 19],\n",
      "        [15, 14],\n",
      "        [15, 16],\n",
      "        [16, 15],\n",
      "        [16, 17],\n",
      "        [17, 16],\n",
      "        [17, 18],\n",
      "        [18, 17],\n",
      "        [18, 19],\n",
      "        [19, 14],\n",
      "        [19, 18],\n",
      "        [20,  9],\n",
      "        [20, 21],\n",
      "        [20, 22],\n",
      "        [21, 20],\n",
      "        [22, 20],\n",
      "        [22, 23],\n",
      "        [22, 24],\n",
      "        [23, 22],\n",
      "        [24,  7],\n",
      "        [24, 22],\n",
      "        [24, 25],\n",
      "        [25, 24],\n",
      "        [26,  4],\n",
      "        [26, 27],\n",
      "        [26, 28],\n",
      "        [27, 26],\n",
      "        [28, 26],\n",
      "        [28, 29],\n",
      "        [28, 30],\n",
      "        [29, 28],\n",
      "        [30,  2],\n",
      "        [30, 28],\n",
      "        [30, 31],\n",
      "        [31, 30]])\n"
     ]
    }
   ],
   "source": [
    "# Investigating the edges \n",
    "# Shape [2, num_edges]\n",
    "print(\"Are edges directed : \"+str(data[0].is_directed()))\n",
    "print(data[0].edge_index.t())\n",
    "\n",
    "# Edges are undirected, and they are counted twice below."
   ]
  },
  {
   "cell_type": "code",
   "execution_count": 34,
   "id": "e85b705b",
   "metadata": {},
   "outputs": [
    {
     "data": {
      "text/plain": [
       "'OCC3OC(OCC2OC(OC(C#N)c1ccccc1)C(O)C(O)C2O)C(O)C(O)C3O '"
      ]
     },
     "execution_count": 34,
     "metadata": {},
     "output_type": "execute_result"
    }
   ],
   "source": [
    "data[0][\"smiles\"] # The smiles string way of writing a molecule"
   ]
  },
  {
   "cell_type": "code",
   "execution_count": 35,
   "id": "f16db595",
   "metadata": {},
   "outputs": [
    {
     "data": {
      "image/png": "[encoded data removed]",
      "text/plain": [
       "<rdkit.Chem.rdchem.Mol at 0x1c3f9c713c0>"
      ]
     },
     "execution_count": 35,
     "metadata": {},
     "output_type": "execute_result"
    }
   ],
   "source": [
    "from rdkit import Chem\n",
    "from rdkit.Chem.Draw import IPythonConsole\n",
    "molecule = Chem.MolFromSmiles(data[0][\"smiles\"])\n",
    "molecule\n",
    "\n",
    "# Visualization of our graph/molecule."
   ]
  },
  {
   "cell_type": "code",
   "execution_count": 36,
   "id": "6c2dd0a5",
   "metadata": {},
   "outputs": [
    {
     "data": {
      "text/plain": [
       "rdkit.Chem.rdchem.Mol"
      ]
     },
     "execution_count": 36,
     "metadata": {},
     "output_type": "execute_result"
    }
   ],
   "source": [
    "type(molecule)"
   ]
  },
  {
   "cell_type": "markdown",
   "id": "89617257",
   "metadata": {},
   "source": [
    "Building a Graph Neural Network works the same way as building a Convolutional Neural Network, we simple add some layers.\n",
    "\n",
    "The GCN simply extends torch.nn.Module. GCNConv expects:\n",
    "\n",
    "    in_channels = Size of each input sample.\n",
    "    out_channels = Size of each output sample.\n",
    "\n",
    "We apply three convolutional layers, which means we learn the information about 3 neighbor hops.  NOTE : It is not wise to have too many layers, because having too many leads to oversmoothing \n",
    "\n",
    "After that we apply a pooling layer to combine the information of the individual nodes, as we want to perform graph-level prediction.\n",
    "\n",
    "Always keep in mind that different learning problems (node, edge or graph prediction) require different GNN architectures.\n",
    "\n",
    "For example for node-level prediction you will often encounter masks. For graph-level predictions on the other hand you need to combine the node embeddings.\n"
   ]
  },
  {
   "cell_type": "markdown",
   "id": "3c6b1c7d",
   "metadata": {},
   "source": [
    "Creating a GNN is the same way as creating any NN in pytorch , we are just using GNN layers from torch_geometric.nn.\n",
    "These are just message passing layers.\n",
    "\n",
    "In the innit function we define our layers, here 4 message passing layers. The first is a transformation layer, it transforms our 9 node features to an embedding vector of size 64. Then we have our 3 message passing steps, and lastly out Linear output layer which has an output layer of size 1 (not 734, thats a bug ) which means we want to do a regression.\n",
    "\n",
    "In the forward function we pass in our data : x(node features), edge_index(our edges) and a batch size. We perform the gcn layers giving those and activating them each with with an activation function. The name **hidden** references updated node state. The reason we use **embeding_size*2** is because of the pooling mechanism explained below. We have 2 vectors appended so thats why we have twice the size.\n",
    "\n",
    "After that we have a global pooling layer. Since we want to do a graph-level prediction (molecule solution),  we have to somehow combine the node embeddings into one representation. We could just sum them up all together, but here we use a global pooling layer. The reason we dont sum them up is because with different graphs we would have different sizes of the embedding vector, which is not optimal.\n",
    "\n",
    "Here the global pooling is a basic one , where we do mean pooling and max pooling seperately on the note feature vectors, then  concatenate those in 1 embedding for the whole graph.\n",
    "\n"
   ]
  },
  {
   "cell_type": "code",
   "execution_count": 37,
   "id": "686b83fb",
   "metadata": {},
   "outputs": [
    {
     "name": "stdout",
     "output_type": "stream",
     "text": [
      "GCN(\n",
      "  (initial_conv): GCNConv(9, 64)\n",
      "  (conv1): GCNConv(64, 64)\n",
      "  (conv2): GCNConv(64, 64)\n",
      "  (conv3): GCNConv(64, 64)\n",
      "  (out): Linear(in_features=128, out_features=1, bias=True)\n",
      ")\n",
      "Number of parameters:  13249\n"
     ]
    }
   ],
   "source": [
    "import torch\n",
    "from torch.nn import Linear\n",
    "import torch.nn.functional as F \n",
    "from torch_geometric.nn import GCNConv, TopKPooling, global_mean_pool\n",
    "from torch_geometric.nn import global_mean_pool as gap, global_max_pool as gmp\n",
    "\n",
    "embedding_size = 64\n",
    "\n",
    "class GCN(torch.nn.Module): # inherit from this class\n",
    "    def __init__(self):\n",
    "        # Init parent\n",
    "        super(GCN, self).__init__()\n",
    "        torch.manual_seed(42)\n",
    "\n",
    "        # GCN layers\n",
    "        self.initial_conv = GCNConv(data.num_features, embedding_size) \n",
    "        self.conv1 = GCNConv(embedding_size, embedding_size)\n",
    "        self.conv2 = GCNConv(embedding_size, embedding_size)\n",
    "        self.conv3 = GCNConv(embedding_size, embedding_size)\n",
    "\n",
    "        # Output layer\n",
    "        self.out = Linear(embedding_size*2, 1)\n",
    "\n",
    "    def forward(self, x, edge_index, batch_index):\n",
    "        # First Conv layer\n",
    "        hidden = self.initial_conv(x, edge_index)\n",
    "        hidden = F.tanh(hidden)\n",
    "\n",
    "        # Other Conv layers\n",
    "        hidden = self.conv1(hidden, edge_index)\n",
    "        hidden = F.tanh(hidden)\n",
    "        hidden = self.conv2(hidden, edge_index)\n",
    "        hidden = F.tanh(hidden)\n",
    "        hidden = self.conv3(hidden, edge_index)\n",
    "        hidden = F.tanh(hidden)\n",
    "          \n",
    "        # Global Pooling (stack different aggregations)\n",
    "        hidden = torch.cat([gmp(hidden, batch_index), \n",
    "                            gap(hidden, batch_index)], dim=1)\n",
    "\n",
    "        # Apply a final (linear) classifier.\n",
    "        out = self.out(hidden)\n",
    "\n",
    "        return out, hidden\n",
    "\n",
    "model = GCN()\n",
    "print(model)\n",
    "print(\"Number of parameters: \", sum(p.numel() for p in model.parameters()))"
   ]
  },
  {
   "cell_type": "markdown",
   "id": "96965990",
   "metadata": {},
   "source": [
    "We can see from the summary how we have 9 input node features, output into size 64 embedding, then 3 message passing layers, then output 1 embedding.\n",
    "\n",
    "- We could also reduce the embeddings, but as we have large molecules we use 64\n",
    "- The more layers we add, the more information we get about the graph\n",
    "- For the regression problem we use a Linear layer as final output layer\n",
    "- We try to use not too many parameters, as we only have ~1k samples"
   ]
  },
  {
   "cell_type": "markdown",
   "id": "66e39a54",
   "metadata": {},
   "source": [
    "So Regarding training : First define a loss function and an optimizer. Then check if GPU available( I can't install CUDA so I just run it with CPU here). Then define a BATCH_SIZE to 64 which is used as we know to speed up calculations etc.\n",
    "\n",
    "NOTE: Batches are handled a bit differently with graphs. The thing is that you can have different graphs so different number of nodes and edges between them in one batch. So what they do is they concatenate all node features in a large matrix ,and then computing a large adjacency matrix which contains all adjacencies for all 64 graphs. There is no problem here since the graphs are disconnecting by having a 0(no edge) between the different graphs. Then this batch is passed in the GNN layer and get the updated node embeddings for all these 64 individual graphs.\n",
    "\n",
    "Also we split 80 20 train test."
   ]
  },
  {
   "cell_type": "code",
   "execution_count": 39,
   "id": "70824756",
   "metadata": {},
   "outputs": [
    {
     "name": "stdout",
     "output_type": "stream",
     "text": [
      "Starting training...\n",
      "Epoch 0 | Train Loss 11.665949821472168\n",
      "Epoch 100 | Train Loss 0.8522961735725403\n",
      "Epoch 200 | Train Loss 1.123275637626648\n",
      "Epoch 300 | Train Loss 0.32506293058395386\n",
      "Epoch 400 | Train Loss 0.2441462129354477\n",
      "Epoch 500 | Train Loss 0.3833293616771698\n",
      "Epoch 600 | Train Loss 0.23445069789886475\n",
      "Epoch 700 | Train Loss 0.06752963364124298\n",
      "Epoch 800 | Train Loss 0.17226971685886383\n",
      "Epoch 900 | Train Loss 0.19097530841827393\n",
      "Epoch 1000 | Train Loss 0.06340726464986801\n",
      "Epoch 1100 | Train Loss 0.04240541160106659\n",
      "Epoch 1200 | Train Loss 0.10679217427968979\n",
      "Epoch 1300 | Train Loss 0.06002793833613396\n",
      "Epoch 1400 | Train Loss 0.06042511761188507\n",
      "Epoch 1500 | Train Loss 0.014942551963031292\n",
      "Epoch 1600 | Train Loss 0.06070227548480034\n",
      "Epoch 1700 | Train Loss 0.009904931299388409\n",
      "Epoch 1800 | Train Loss 0.05097135528922081\n",
      "Epoch 1900 | Train Loss 0.06837863475084305\n"
     ]
    }
   ],
   "source": [
    "from torch_geometric.data import DataLoader\n",
    "import warnings\n",
    "warnings.filterwarnings(\"ignore\")\n",
    "\n",
    "# Root mean squared error\n",
    "loss_fn = torch.nn.MSELoss()\n",
    "optimizer = torch.optim.Adam(model.parameters(), lr=0.0007)  \n",
    "\n",
    "# Use GPU for training\n",
    "device = torch.device(\"cuda:0\" if torch.cuda.is_available() else \"cpu\")\n",
    "model = model.to(device)\n",
    "\n",
    "# Wrap data in a data loader\n",
    "data_size = len(data)\n",
    "NUM_GRAPHS_PER_BATCH = 64\n",
    "loader = DataLoader(data[:int(data_size * 0.8)], \n",
    "                    batch_size=NUM_GRAPHS_PER_BATCH, shuffle=True)\n",
    "test_loader = DataLoader(data[int(data_size * 0.8):], \n",
    "                         batch_size=NUM_GRAPHS_PER_BATCH, shuffle=True)\n",
    "\n",
    "def train(data):\n",
    "    # Enumerate over the data\n",
    "    for batch in loader:\n",
    "      # Use GPU\n",
    "      batch.to(device)  \n",
    "      # Reset gradients\n",
    "      optimizer.zero_grad() \n",
    "      # Passing the node features and the connection info and obtaining predictions and embeddings\n",
    "      pred, embedding = model(batch.x.float(), batch.edge_index, batch.batch)  # batch.x node features, batch.edge_index edges, batch.batch is batch index.\n",
    "      # Calculating the loss and gradients\n",
    "      loss = loss_fn(pred, batch.y)     \n",
    "      loss.backward()  \n",
    "      # Update using the gradients\n",
    "      optimizer.step()   \n",
    "    return loss, embedding\n",
    "\n",
    "print(\"Starting training...\")\n",
    "losses = []\n",
    "for epoch in range(2000):\n",
    "    loss, h = train(data)\n",
    "    losses.append(loss)\n",
    "    if epoch % 100 == 0:\n",
    "      print(f\"Epoch {epoch} | Train Loss {loss}\")"
   ]
  },
  {
   "cell_type": "code",
   "execution_count": 41,
   "id": "d4956a1b",
   "metadata": {},
   "outputs": [
    {
     "data": {
      "text/plain": [
       "False"
      ]
     },
     "execution_count": 41,
     "metadata": {},
     "output_type": "execute_result"
    }
   ],
   "source": [
    "torch.cuda.is_available()"
   ]
  },
  {
   "cell_type": "code",
   "execution_count": 45,
   "id": "e859c95d",
   "metadata": {},
   "outputs": [
    {
     "data": {
      "text/plain": [
       "<AxesSubplot:>"
      ]
     },
     "execution_count": 45,
     "metadata": {},
     "output_type": "execute_result"
    },
    {
     "data": {
      "image/png": "[encoded data removed]",
      "text/plain": [
       "<Figure size 640x480 with 1 Axes>"
      ]
     },
     "metadata": {},
     "output_type": "display_data"
    }
   ],
   "source": [
    "# Visualize learning (training loss)\n",
    "import seaborn as sns\n",
    "losses_float = [float(loss.cpu().detach().numpy()) for loss in losses] \n",
    "loss_indices = [i for i,l in enumerate(losses_float)] \n",
    "plt = sns.lineplot(x=loss_indices, y=losses_float)\n",
    "plt"
   ]
  },
  {
   "cell_type": "code",
   "execution_count": 46,
   "id": "111a599b",
   "metadata": {},
   "outputs": [
    {
     "data": {
      "text/html": [
       "<div>\n",
       "<style scoped>\n",
       "    .dataframe tbody tr th:only-of-type {\n",
       "        vertical-align: middle;\n",
       "    }\n",
       "\n",
       "    .dataframe tbody tr th {\n",
       "        vertical-align: top;\n",
       "    }\n",
       "\n",
       "    .dataframe thead th {\n",
       "        text-align: right;\n",
       "    }\n",
       "</style>\n",
       "<table border=\"1\" class=\"dataframe\">\n",
       "  <thead>\n",
       "    <tr style=\"text-align: right;\">\n",
       "      <th></th>\n",
       "      <th>y_real</th>\n",
       "      <th>y_pred</th>\n",
       "    </tr>\n",
       "  </thead>\n",
       "  <tbody>\n",
       "    <tr>\n",
       "      <th>0</th>\n",
       "      <td>0.940</td>\n",
       "      <td>0.437253</td>\n",
       "    </tr>\n",
       "    <tr>\n",
       "      <th>1</th>\n",
       "      <td>-6.237</td>\n",
       "      <td>-2.889908</td>\n",
       "    </tr>\n",
       "    <tr>\n",
       "      <th>2</th>\n",
       "      <td>-2.540</td>\n",
       "      <td>-3.109433</td>\n",
       "    </tr>\n",
       "    <tr>\n",
       "      <th>3</th>\n",
       "      <td>-5.680</td>\n",
       "      <td>-5.867784</td>\n",
       "    </tr>\n",
       "    <tr>\n",
       "      <th>4</th>\n",
       "      <td>-2.460</td>\n",
       "      <td>-1.960660</td>\n",
       "    </tr>\n",
       "    <tr>\n",
       "      <th>...</th>\n",
       "      <td>...</td>\n",
       "      <td>...</td>\n",
       "    </tr>\n",
       "    <tr>\n",
       "      <th>59</th>\n",
       "      <td>-1.890</td>\n",
       "      <td>-1.605698</td>\n",
       "    </tr>\n",
       "    <tr>\n",
       "      <th>60</th>\n",
       "      <td>-2.218</td>\n",
       "      <td>-4.570598</td>\n",
       "    </tr>\n",
       "    <tr>\n",
       "      <th>61</th>\n",
       "      <td>-3.583</td>\n",
       "      <td>-1.081239</td>\n",
       "    </tr>\n",
       "    <tr>\n",
       "      <th>62</th>\n",
       "      <td>-2.580</td>\n",
       "      <td>-2.442059</td>\n",
       "    </tr>\n",
       "    <tr>\n",
       "      <th>63</th>\n",
       "      <td>-4.360</td>\n",
       "      <td>-4.664393</td>\n",
       "    </tr>\n",
       "  </tbody>\n",
       "</table>\n",
       "<p>64 rows × 2 columns</p>\n",
       "</div>"
      ],
      "text/plain": [
       "    y_real    y_pred\n",
       "0    0.940  0.437253\n",
       "1   -6.237 -2.889908\n",
       "2   -2.540 -3.109433\n",
       "3   -5.680 -5.867784\n",
       "4   -2.460 -1.960660\n",
       "..     ...       ...\n",
       "59  -1.890 -1.605698\n",
       "60  -2.218 -4.570598\n",
       "61  -3.583 -1.081239\n",
       "62  -2.580 -2.442059\n",
       "63  -4.360 -4.664393\n",
       "\n",
       "[64 rows x 2 columns]"
      ]
     },
     "execution_count": 46,
     "metadata": {},
     "output_type": "execute_result"
    }
   ],
   "source": [
    "import pandas as pd \n",
    "\n",
    "# Analyze the results for one batch\n",
    "test_batch = next(iter(test_loader))\n",
    "with torch.no_grad():\n",
    "    test_batch.to(device)\n",
    "    pred, embed = model(test_batch.x.float(), test_batch.edge_index, test_batch.batch) \n",
    "    df = pd.DataFrame()\n",
    "    df[\"y_real\"] = test_batch.y.tolist()\n",
    "    df[\"y_pred\"] = pred.tolist()\n",
    "df[\"y_real\"] = df[\"y_real\"].apply(lambda row: row[0])\n",
    "df[\"y_pred\"] = df[\"y_pred\"].apply(lambda row: row[0])\n",
    "df"
   ]
  },
  {
   "cell_type": "markdown",
   "id": "acb9e1f1",
   "metadata": {},
   "source": [
    "y as we stated before the the soludity (or whatever) value of each molecule. We see that our regression is pretty good, althought it has some variance."
   ]
  },
  {
   "cell_type": "code",
   "execution_count": 47,
   "id": "f1432984",
   "metadata": {},
   "outputs": [
    {
     "data": {
      "text/plain": [
       "<AxesSubplot:xlabel='y_real', ylabel='y_pred'>"
      ]
     },
     "execution_count": 47,
     "metadata": {},
     "output_type": "execute_result"
    },
    {
     "data": {
      "image/png": "[encoded data removed]",
      "text/plain": [
       "<Figure size 640x480 with 1 Axes>"
      ]
     },
     "metadata": {},
     "output_type": "display_data"
    }
   ],
   "source": [
    "plt = sns.scatterplot(data=df, x=\"y_real\", y=\"y_pred\")\n",
    "plt.set(xlim=(-7, 2))\n",
    "plt.set(ylim=(-7, 2))\n",
    "plt"
   ]
  },
  {
   "cell_type": "markdown",
   "id": "e454edd6",
   "metadata": {},
   "source": [
    "Improving the model / More to play around with\n",
    "\n",
    "For example you can add:\n",
    "\n",
    "    Dropouts\n",
    "    Other (more intelligent) Pooling Layers (all layers here: https://pytorch-geometric.readthedocs.io/en/latest/modules/nn.html#)\n",
    "    Global Pooling Layers\n",
    "    Batch Normalization\n",
    "    More MP layers\n",
    "    Other hidden state sizes\n",
    "    Test metrics (test error) and Hyperparameter optimization\n",
    "    ...\n",
    "\n",
    "https://github.com/rusty1s/pytorch_geometric/tree/master/examples\n"
   ]
  },
  {
   "cell_type": "markdown",
   "id": "a6055f0d",
   "metadata": {},
   "source": [
    "- GCN paper : https://arxiv.org/pdf/1609.02907.pdf\n",
    "- How GCN layer works : https://pytorch-geometric.readthedocs.io/en/latest/notes/create_gnn.html\n",
    "- https://github.com/pyg-team/pytorch_geometric\n",
    "- also look at this PAPER : Simple Graph Convolution (SGC) which is GCN simplified (smarter)"
   ]
  },
  {
   "cell_type": "markdown",
   "id": "1159e9f4",
   "metadata": {},
   "source": [
    "next after this : \n",
    "- https://colab.research.google.com/drive/1h3-vJGRVloF5zStxL5I0rSy4ZUPNsjy8#scrollTo=qoW2Z7P70LNQ\n",
    "- https://colab.research.google.com/drive/14OvFnAXggxB8vM4e8vSURUp1TaKnovzX?usp=sharing#scrollTo=paMH3_7ejSg4\n",
    "- https://colab.research.google.com/drive/1LJir3T6M6Omc2Vn2GV2cDW_GV2YfI53_?usp=sharing#scrollTo=-3dnSaQnR6Ci\n",
    "- https://colab.research.google.com/drive/1I8a0DfQ3fI7Njc62__mVXUlcAleUclnb#scrollTo=1tBMhOrq4JKw\n",
    "- https://colab.research.google.com/drive/1XAjcjRHrSR_ypCk_feIWFbcBKyT4Lirs\n",
    "- https://www.youtube.com/watch?v=QLIkOtKS4os&list=PLV8yxwGOxvvoNkzPfCx2i8an--Tkt7O8Z&index=10 ( big project)\n",
    "- Traffic forecasting (pytorch geom temporal) , fraud detection , reccomender systems etc.. \n",
    "- GNN courses i had found \n",
    "- look at notes in my note's book or the big notebook for more links etc. or booksmarks on both laptops.\n",
    "- mention the other libraries \n",
    "- start trying to see how and if TGN for logistics can be performed "
   ]
  },
  {
   "cell_type": "code",
   "execution_count": null,
   "id": "aa5ce9cf",
   "metadata": {},
   "outputs": [],
   "source": [
    "https://www.youtube.com/watch?v=2KRAOZIULzw&t=12s"
   ]
  },
  {
   "cell_type": "code",
   "execution_count": null,
   "id": "c8e1aab1",
   "metadata": {},
   "outputs": [],
   "source": []
  },
  {
   "cell_type": "code",
   "execution_count": null,
   "id": "9342200c",
   "metadata": {},
   "outputs": [],
   "source": []
  },
  {
   "cell_type": "code",
   "execution_count": null,
   "id": "4be8309d",
   "metadata": {},
   "outputs": [],
   "source": []
  },
  {
   "cell_type": "code",
   "execution_count": null,
   "id": "6e241006",
   "metadata": {},
   "outputs": [],
   "source": []
  },
  {
   "cell_type": "code",
   "execution_count": null,
   "id": "a2f1e293",
   "metadata": {},
   "outputs": [],
   "source": []
  },
  {
   "cell_type": "code",
   "execution_count": null,
   "id": "d150ea9e",
   "metadata": {},
   "outputs": [],
   "source": []
  }
 ],
 "metadata": {
  "kernelspec": {
   "display_name": "Python 3 (ipykernel)",
   "language": "python",
   "name": "python3"
  },
  "language_info": {
   "codemirror_mode": {
    "name": "ipython",
    "version": 3
   },
   "file_extension": ".py",
   "mimetype": "text/x-python",
   "name": "python",
   "nbconvert_exporter": "python",
   "pygments_lexer": "ipython3",
   "version": "3.9.13"
  }
 },
 "nbformat": 4,
 "nbformat_minor": 5
}
